{
 "cells": [
  {
   "cell_type": "code",
   "execution_count": 3,
   "id": "84e33b14",
   "metadata": {},
   "outputs": [],
   "source": [
    "import qiskit as q\n",
    "import matplotlib.pyplot as plt"
   ]
  },
  {
   "cell_type": "code",
   "execution_count": 4,
   "id": "81bb65a4",
   "metadata": {},
   "outputs": [],
   "source": [
    "##Partie A = Préparation\n",
    "#On simule un ordinateur quantique\n",
    "Simulator = q.Aer.get_backend ('qasm_simulator')"
   ]
  },
  {
   "cell_type": "code",
   "execution_count": 5,
   "id": "141f9bb9",
   "metadata": {},
   "outputs": [],
   "source": [
    "##Partie B = Construction du circuit \n",
    "#Circuit quantique avec un qubit et une mésure\n",
    "circuit = q.QuantumCircuit (1, 1)"
   ]
  },
  {
   "cell_type": "code",
   "execution_count": 6,
   "id": "24c4356b",
   "metadata": {},
   "outputs": [
    {
     "data": {
      "text/plain": [
       "<qiskit.circuit.instructionset.InstructionSet at 0x7fd0586e3640>"
      ]
     },
     "execution_count": 6,
     "metadata": {},
     "output_type": "execute_result"
    }
   ],
   "source": [
    "#Une porte Hadamard\n",
    "circuit.h(0)"
   ]
  },
  {
   "cell_type": "code",
   "execution_count": 7,
   "id": "ea8da537",
   "metadata": {},
   "outputs": [
    {
     "data": {
      "text/plain": [
       "<qiskit.circuit.instructionset.InstructionSet at 0x7fd0586e35b0>"
      ]
     },
     "execution_count": 7,
     "metadata": {},
     "output_type": "execute_result"
    }
   ],
   "source": [
    "#Mesure du qubit (donne un bit classique)\n",
    "circuit.measure(0, 0)"
   ]
  },
  {
   "cell_type": "code",
   "execution_count": 8,
   "id": "97d5cf71",
   "metadata": {},
   "outputs": [
    {
     "name": "stdout",
     "output_type": "stream",
     "text": [
      "     ┌───┐┌─┐\n",
      "  q: ┤ H ├┤M├\n",
      "     └───┘└╥┘\n",
      "c: 1/══════╩═\n",
      "           0 \n"
     ]
    }
   ],
   "source": [
    "#Affichage du circuit\n",
    "print(circuit.draw(output = 'text'))"
   ]
  },
  {
   "cell_type": "code",
   "execution_count": null,
   "id": "79400046",
   "metadata": {},
   "outputs": [],
   "source": []
  },
  {
   "cell_type": "code",
   "execution_count": 10,
   "id": "dff148b4",
   "metadata": {},
   "outputs": [],
   "source": [
    "##Partie C = Exécution\n",
    "#Lancer 1000 simulations\n",
    "job = q.execute(circuit, Simulator, shots=1000)\n"
   ]
  },
  {
   "cell_type": "code",
   "execution_count": 11,
   "id": "4f956605",
   "metadata": {},
   "outputs": [],
   "source": [
    "##Partie D = Résultats et visualisation\n",
    "result = job.result()"
   ]
  },
  {
   "cell_type": "code",
   "execution_count": 12,
   "id": "136304be",
   "metadata": {},
   "outputs": [
    {
     "name": "stdout",
     "output_type": "stream",
     "text": [
      "Nombre de '0' et de '1' :  {'0': 529, '1': 471}\n"
     ]
    }
   ],
   "source": [
    "#Comptage\n",
    "counts = result.get_counts(circuit)\n",
    "print(\"Nombre de '0' et de '1' : \", counts)"
   ]
  },
  {
   "cell_type": "code",
   "execution_count": 21,
   "id": "4215ccd9",
   "metadata": {},
   "outputs": [
    {
     "data": {
      "image/png": "[encoded data removed]",
      "text/plain": [
       "<Figure size 432x288 with 1 Axes>"
      ]
     },
     "metadata": {
      "needs_background": "light"
     },
     "output_type": "display_data"
    }
   ],
   "source": [
    "#Diagramme en barres\n",
    "fig, ax= plt.subplots()\n",
    "\n",
    "q.visualization.plot_histogram(counts, ax=ax)\n",
    "plt.show()"
   ]
  },
  {
   "cell_type": "code",
   "execution_count": 18,
   "id": "9393ca0c",
   "metadata": {},
   "outputs": [
    {
     "name": "stdout",
     "output_type": "stream",
     "text": [
      "Help on function plot_histogram in module qiskit.visualization.counts_visualization:\n",
      "\n",
      "plot_histogram(data, figsize=(7, 5), color=None, number_to_keep=None, sort='asc', target_string=None, legend=None, bar_labels=True, title=None, ax=None, filename=None)\n",
      "    Plot a histogram of input counts data.\n",
      "    \n",
      "    Args:\n",
      "        data (list or dict): This is either a list of dictionaries or a single\n",
      "            dict containing the values to represent (ex {'001': 130})\n",
      "        figsize (tuple): Figure size in inches.\n",
      "        color (list or str): String or list of strings for histogram bar colors.\n",
      "        number_to_keep (int): The number of terms to plot per dataset.  The rest is made into a\n",
      "            single bar called 'rest'.  If multiple datasets are given, the ``number_to_keep``\n",
      "            applies to each dataset individually, which may result in more bars than\n",
      "            ``number_to_keep + 1``.  The ``number_to_keep`` applies to the total values, rather than\n",
      "            the x-axis sort.\n",
      "        sort (string): Could be `'asc'`, `'desc'`, `'hamming'`, `'value'`, or\n",
      "            `'value_desc'`. If set to `'value'` or `'value_desc'` the x axis\n",
      "            will be sorted by the number of counts for each bitstring.\n",
      "            Defaults to `'asc'`.\n",
      "        target_string (str): Target string if 'sort' is a distance measure.\n",
      "        legend(list): A list of strings to use for labels of the data.\n",
      "            The number of entries must match the length of data (if data is a\n",
      "            list or 1 if it's a dict)\n",
      "        bar_labels (bool): Label each bar in histogram with counts value.\n",
      "        title (str): A string to use for the plot title\n",
      "        ax (matplotlib.axes.Axes): An optional Axes object to be used for\n",
      "            the visualization output. If none is specified a new matplotlib\n",
      "            Figure will be created and used. Additionally, if specified there\n",
      "            will be no returned Figure since it is redundant.\n",
      "        filename (str): file path to save image to.\n",
      "    \n",
      "    Returns:\n",
      "        matplotlib.Figure:\n",
      "            A figure for the rendered histogram, if the ``ax``\n",
      "            kwarg is not set.\n",
      "    \n",
      "    Raises:\n",
      "        MissingOptionalLibraryError: Matplotlib not available.\n",
      "        VisualizationError: When legend is provided and the length doesn't\n",
      "            match the input data.\n",
      "        VisualizationError: Input must be Counts or a dict\n",
      "    \n",
      "    Examples:\n",
      "        .. plot::\n",
      "           :include-source:\n",
      "    \n",
      "            # Plot two counts in the same figure with legends and colors specified.\n",
      "    \n",
      "            from qiskit.visualization import plot_histogram\n",
      "    \n",
      "            counts1 = {'00': 525, '11': 499}\n",
      "            counts2 = {'00': 511, '11': 514}\n",
      "    \n",
      "            legend = ['First execution', 'Second execution']\n",
      "    \n",
      "            plot_histogram([counts1, counts2], legend=legend, color=['crimson','midnightblue'],\n",
      "                            title=\"New Histogram\")\n",
      "    \n",
      "            # You can sort the bitstrings using different methods.\n",
      "    \n",
      "            counts = {'001': 596, '011': 211, '010': 50, '000': 117, '101': 33, '111': 8,\n",
      "                    '100': 6, '110': 3}\n",
      "    \n",
      "            # Sort by the counts in descending order\n",
      "            hist1 = plot_histogram(counts, sort='value_desc')\n",
      "    \n",
      "            # Sort by the hamming distance (the number of bit flips to change from\n",
      "            # one bitstring to the other) from a target string.\n",
      "            hist2 = plot_histogram(counts, sort='hamming', target_string='001')\n",
      "\n"
     ]
    }
   ],
   "source": [
    "help(q.visualization.plot_histogram)"
   ]
  },
  {
   "cell_type": "code",
   "execution_count": null,
   "id": "317d62ab",
   "metadata": {},
   "outputs": [],
   "source": []
  }
 ],
 "metadata": {
  "kernelspec": {
   "display_name": "Python 3",
   "language": "python",
   "name": "python3"
  },
  "language_info": {
   "codemirror_mode": {
    "name": "ipython",
    "version": 3
   },
   "file_extension": ".py",
   "mimetype": "text/x-python",
   "name": "python",
   "nbconvert_exporter": "python",
   "pygments_lexer": "ipython3",
   "version": "3.8.8"
  }
 },
 "nbformat": 4,
 "nbformat_minor": 5
}
